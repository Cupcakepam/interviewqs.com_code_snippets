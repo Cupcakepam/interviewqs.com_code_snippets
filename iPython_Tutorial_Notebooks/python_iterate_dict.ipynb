{
 "cells": [
  {
   "cell_type": "markdown",
   "metadata": {},
   "source": [
    "#### Iterate over dictionaries in Python"
   ]
  },
  {
   "cell_type": "code",
   "execution_count": 4,
   "metadata": {
    "collapsed": false
   },
   "outputs": [
    {
     "name": "stdout",
     "output_type": "stream",
     "text": [
      "terry corresponds to 1\n",
      "jason corresponds to 5\n",
      "michael corresponds to 3\n",
      "sam corresponds to 6\n"
     ]
    }
   ],
   "source": [
    "#create a dict\n",
    "mydict = {'jason':5,\n",
    "          'terry':1,\n",
    "          'michael':3,\n",
    "          'sam':6}\n",
    "\n",
    "#using for loops\n",
    "for key, value in mydict.items():\n",
    "    print (key, 'corresponds to', value)"
   ]
  }
 ],
 "metadata": {
  "anaconda-cloud": {},
  "kernelspec": {
   "display_name": "Python [default]",
   "language": "python",
   "name": "python3"
  },
  "language_info": {
   "codemirror_mode": {
    "name": "ipython",
    "version": 3
   },
   "file_extension": ".py",
   "mimetype": "text/x-python",
   "name": "python",
   "nbconvert_exporter": "python",
   "pygments_lexer": "ipython3",
   "version": "3.5.4"
  }
 },
 "nbformat": 4,
 "nbformat_minor": 1
}

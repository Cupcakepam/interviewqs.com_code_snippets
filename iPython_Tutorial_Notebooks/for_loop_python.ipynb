{
 "cells": [
  {
   "cell_type": "code",
   "execution_count": 9,
   "metadata": {
    "collapsed": false
   },
   "outputs": [
    {
     "name": "stdout",
     "output_type": "stream",
     "text": [
      "4\n",
      "5\n",
      "6\n",
      "7\n",
      "8\n",
      "Complete\n"
     ]
    }
   ],
   "source": [
    "#define array (you can also drop this directly into the for loop)\n",
    "a = [1,2,3,4,5]\n",
    "#loop through array, a\n",
    "for i in a:\n",
    "    #for each element i in array a, add 3\n",
    "    k = i + 3\n",
    "    #print result\n",
    "    print(k)\n",
    "else:\n",
    "    #once loop is finished, print complete\n",
    "    print('Complete')"
   ]
  }
 ],
 "metadata": {
  "anaconda-cloud": {},
  "kernelspec": {
   "display_name": "Python [conda root]",
   "language": "python",
   "name": "conda-root-py"
  },
  "language_info": {
   "codemirror_mode": {
    "name": "ipython",
    "version": 3
   },
   "file_extension": ".py",
   "mimetype": "text/x-python",
   "name": "python",
   "nbconvert_exporter": "python",
   "pygments_lexer": "ipython3",
   "version": "3.5.4"
  }
 },
 "nbformat": 4,
 "nbformat_minor": 0
}

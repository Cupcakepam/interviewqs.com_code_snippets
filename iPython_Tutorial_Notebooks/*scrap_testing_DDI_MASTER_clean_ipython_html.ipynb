{
 "cells": [
  {
   "cell_type": "markdown",
   "metadata": {},
   "source": [
    "Use this to clean the html raw files that are downloaded from notebooks.  \n",
    "You can use if_else_final.html in github folder as a template for importing the cleaned html file from this notebook.  \n",
    "Flow is:  \n",
    "1 run in ipynb, export raw html  \n",
    "2 clean html in this ipynb, exports automatically  \n",
    "3 use 'extract_month_year_pandas_final' as template  \n",
    "4 Paste everything in between guidelines  \n",
    "5 Replace the h3 tags with h4 (can add this to code eventually)  \n",
    "6 Replace the notebook container with \"'col-md-10 col-md-offset-1'\"  \n",
    "7 Fix the title  \n",
    "8 Update index.html with the new ref  \n",
    "\n",
    "\n",
    "If images, save image to Python_References_Image_Assets - seaborn_scatter_chart has example  "
   ]
  },
  {
   "cell_type": "markdown",
   "metadata": {},
   "source": [
    "#### import modules"
   ]
  },
  {
   "cell_type": "code",
   "execution_count": 279,
   "metadata": {
    "collapsed": true
   },
   "outputs": [],
   "source": [
    "import pandas as pd\n",
    "import numpy as np\n",
    "import re\n",
    "from bs4 import BeautifulSoup"
   ]
  },
  {
   "cell_type": "code",
   "execution_count": 280,
   "metadata": {
    "collapsed": true
   },
   "outputs": [],
   "source": [
    "filepath = '/Users/erikrood/Desktop/erood.github.io/Python_References/\\\n",
    "raw_ipynb_html_exports/count_frequency_value_occurs_dataframe_TEST.html'"
   ]
  },
  {
   "cell_type": "code",
   "execution_count": 281,
   "metadata": {
    "collapsed": true
   },
   "outputs": [],
   "source": [
    "header = \"\"\"\n",
    "\n",
    "<!--header-->\n",
    "<html lang=\"en\">\n",
    "<script src=\"https://erikrood.com/js/jquery.js\"></script>\n",
    "<head>\n",
    "<meta charset=\"utf-8\">\n",
    "<meta content=\"IE=edge\" http-equiv=\"X-UA-Compatible\">\n",
    "<meta content=\"width=device-width, initial-scale=1\" name=\"viewport\">\n",
    "<!--if embedding an iframe object (e.g. d3 viz, remove this^)-->\n",
    "<meta content=\"\" name=\"description\">\n",
    "<meta content=\"\" name=\"author\">\n",
    "<title>Data Interview Qs</title>\n",
    "<!-- Bootstrap Core CSS -->\n",
    "<link href=\"/css/bootstrap.css\" rel=\"stylesheet\">\n",
    "</link></meta></meta></meta></meta></meta></head>\n",
    "<!-- Navigation -->\n",
    "<nav class=\"navbar navbar-inverse navbar-fixed-top\" id=\"navbar-inverse\" role=\"navigation\">\n",
    "<div class=\"container\">\n",
    "<div class=\"col-lg-12\">\n",
    "<!-- Brand and toggle get grouped for better mobile display -->\n",
    "<div class=\"navbar-header\">\n",
    "<button class=\"navbar-toggle\" data-target=\"#bs-example-navbar-collapse-1\" data-toggle=\"collapse\" type=\"button\">\n",
    "<span class=\"sr-only\">Toggle navigation</span>\n",
    "<span class=\"icon-bar\"></span>\n",
    "<span class=\"icon-bar\"></span>\n",
    "<span class=\"icon-bar\"></span>\n",
    "</button>\n",
    "<a class=\"navbar-brand\" href=\"https://www.interviewqs.com\">Data Interview Qs</a>\n",
    "</div>\n",
    "<!-- Collect the nav links, forms, and other content for toggling -->\n",
    "<div class=\"collapse navbar-collapse\" id=\"bs-example-navbar-collapse-1\">\n",
    "<ul class=\"nav navbar-nav\">\n",
    "<li>\n",
    "<a href=\"http://erikrood.com/contact.html\">About</a>\n",
    "</li>\n",
    "<li>\n",
    "<a href=\"http://erikrood.com/contact.html\">Contact</a>\n",
    "</li>\n",
    "</ul>\n",
    "</div>\n",
    "<!-- /.navbar-collapse -->\n",
    "</div>\n",
    "<!-- /.container -->\n",
    "</div>\n",
    "</nav>\n",
    "</html>\n",
    "<html>\n",
    "<body>\n",
    "<br>\n",
    "<br>\n",
    "<!-- Page Content -->\n",
    "<link href=\"/css/bootstrap.css\" rel=\"stylesheet\">\n",
    "<!-- Custom stylesheet, it must be in the same directory as the html file -->\n",
    "<link href=\"/css/notebooks.css\" rel=\"stylesheet\">\n",
    "<div class=\"container\" id=\"notebook-container\">\n",
    "<div class=\"col-md-12\">\n",
    "<div class=\"container\" id=\"notebook-container\">\n",
    "<div class=\"col-md-12\">\n",
    "<div class=\"container\" id=\"notebook-container\">\n",
    "<div class=\"col-md-12\">\n",
    "<!-- end header -->\n",
    "\n",
    "\"\"\""
   ]
  },
  {
   "cell_type": "markdown",
   "metadata": {},
   "source": [
    "#### create dummy dataframe"
   ]
  },
  {
   "cell_type": "code",
   "execution_count": 282,
   "metadata": {
    "collapsed": true
   },
   "outputs": [],
   "source": [
    "# Read in the file\n",
    "with open(filepath, 'r') as file :\n",
    "  filedata = file.read()"
   ]
  },
  {
   "cell_type": "markdown",
   "metadata": {},
   "source": [
    "Soup processing"
   ]
  },
  {
   "cell_type": "code",
   "execution_count": 283,
   "metadata": {
    "collapsed": false
   },
   "outputs": [],
   "source": [
    "#open file with beautiful soup, delete In/Out by calling class name\n",
    "with open(filepath, 'r') as file:\n",
    "    for line in file:\n",
    "        filedata = file.read()\n",
    "        soup = BeautifulSoup(filedata,\"html.parser\")\n",
    "        # replace with `soup.findAll` if you are using BeautifulSoup3\n",
    "        for div in soup.find_all(\"div\", {'class':'prompt output_prompt'}): \n",
    "            div.decompose()\n",
    "        for div in soup.find_all(\"div\", {'class':'prompt input_prompt'}): \n",
    "            div.decompose()\n",
    "        for i in range(0,len(soup.find_all(\"h4\"))-1): \n",
    "            newtg = soup.new_tag('br')\n",
    "            soup.find_all(\"h4\")[i+1].insert(0,newtg)            \n",
    "        with open(filepath, 'wb') as file:\n",
    "            file.write(soup.encode('utf-8'))"
   ]
  },
  {
   "cell_type": "markdown",
   "metadata": {},
   "source": [
    "Add the header, h4 should be first element in notebook to append to front"
   ]
  },
  {
   "cell_type": "code",
   "execution_count": 284,
   "metadata": {
    "collapsed": false
   },
   "outputs": [],
   "source": [
    "with open(filepath, 'r') as file:\n",
    "    filedata = file.read()\n",
    "    soup = BeautifulSoup(filedata,\"html.parser\")\n",
    "    head = soup.find(\"h4\")\n",
    "    head.insert_before(BeautifulSoup(header,\"html.parser\"))\n",
    "    with open(filepath, 'wb') as file:\n",
    "        file.write(soup.encode('utf-8'))"
   ]
  },
  {
   "cell_type": "code",
   "execution_count": 285,
   "metadata": {
    "collapsed": true
   },
   "outputs": [],
   "source": [
    "footer = '''\n",
    "<!--footer-->\n",
    "<br>\n",
    "<div class=\"col-lg-8 col-lg-offset-2\" style=\"text-align:center;background-color: #d8ffea96  !important;border-color: #1ecc81 !important;border-style: solid;border-width: 0px !important;border-radius: 1px !important;box-shadow: 0 0 16px 0 rgba(0,0,0,0.16);margin-bottom:65px;margin-top:25px;\">\n",
    "<br>\n",
    "<h3 style=\"margin-top:0px !important;\"> Ace your next data science interview</h2>\n",
    "<p>Get better at data science interviews by solving a few questions per week</p>\n",
    "<!-- Begin MailChimp Signup Form -->\n",
    "<link href=\"//cdn-images.mailchimp.com/embedcode/horizontal-slim-10_7.css\" rel=\"stylesheet\" type=\"text/css\">\n",
    "<style type=\"text/css\"> #mc_embed_signup{background:##0078FF; clear:left; font:14px Helvetica,Arial,sans-serif; width:100%;}</style>\n",
    "<div id=\"mc_embed_signup\">\n",
    "<form action=\"https://find-me.us13.list-manage.com/subscribe/post?u=262c11ce96e8bc9ddb6d07ea8&amp;id=d9c2ba84c4\" class=\"validate\" id=\"mc-embedded-subscribe-form\" method=\"post\" name=\"mc-embedded-subscribe-form\" novalidate=\"\" target=\"_blank\">\n",
    "<div id=\"mc_embed_signup_scroll\">\n",
    "<input class=\"email\" id=\"mce-EMAIL\" name=\"EMAIL\" placeholder=\"email address\" required=\"\" style=\"width:50%;height:30px;\" type=\"email\" value=\"\">\n",
    "<div aria-hidden=\"true\" style=\"position: absolute; left: -5000px;\"><input name=\"b_262c11ce96e8bc9ddb6d07ea8_e37c601527\" tabindex=\"-1\" type=\"text\" value=\"\"/></div><br>\n",
    "<div class=\"clear\" style=\"padding-top:10px;\"><input class=\"button\" id=\"mc-embedded-subscribe\" name=\"subscribe\" style=\"background-color:#333;max-width:100px;\" type=\"submit\" value=\"Subscribe\"/></div>\n",
    "</br></input></div>\n",
    "</form>\n",
    "</div>\n",
    "</link></div>\n",
    "<!--End mc_embed_signup-->\n",
    "\n",
    "<div class=\"cell border-box-sizing code_cell rendered\">\n",
    "<div class=\"input\">\n",
    "<br>\n",
    "</br></div>\n",
    "<!--end footer-->\n",
    "\n",
    "<!--Google analytics - interviewqs.com-->\n",
    "<script async=\"\" src=\"https://www.googletagmanager.com/gtag/js?id=UA-119531684-1\"></script>\n",
    "script.\n",
    "  window.dataLayer = window.dataLayer || [];\n",
    "  function gtag(){dataLayer.push(arguments);}\n",
    "  gtag('js', new Date());\n",
    "  gtag('config', 'UA-119531684-1');    \n",
    "\n",
    "</div>\n",
    "\n",
    "\n",
    "\n",
    "\n",
    "'''"
   ]
  },
  {
   "cell_type": "code",
   "execution_count": 286,
   "metadata": {
    "collapsed": true
   },
   "outputs": [],
   "source": [
    "#########\n",
    "#########\n",
    "### Need to append a footer in here, should read the file in again and do same thing\n",
    "### #####\n",
    "with open(filepath, 'r') as file:\n",
    "    filedata = file.read()\n",
    "    soup = BeautifulSoup(filedata,\"html.parser\")\n",
    "    soup.append(BeautifulSoup(footer,\"html.parser\"))\n",
    "    with open(filepath, 'wb') as file:\n",
    "        file.write(soup.encode('utf-8'))\n",
    "        \n",
    "\n"
   ]
  },
  {
   "cell_type": "code",
   "execution_count": null,
   "metadata": {
    "collapsed": true
   },
   "outputs": [],
   "source": []
  },
  {
   "cell_type": "code",
   "execution_count": null,
   "metadata": {
    "collapsed": true
   },
   "outputs": [],
   "source": []
  },
  {
   "cell_type": "code",
   "execution_count": null,
   "metadata": {
    "collapsed": true
   },
   "outputs": [],
   "source": [
    "#scrap below here"
   ]
  },
  {
   "cell_type": "code",
   "execution_count": 243,
   "metadata": {
    "collapsed": true
   },
   "outputs": [],
   "source": [
    "#open BS4 processed file, remove anchor links + contents within using regex, write to final output\n",
    "with open(filepath, 'r') as file:\n",
    "    for line in file:\n",
    "        if '<body>' in line:                \n",
    "            for line in file: # now you are at the lines you want\n",
    "                filedata = file.read()\n",
    "                #strip anchor links\n",
    "                filedata = re.sub('<[aA][^>]*>([^<]+)</[aA]>', '', filedata)             \n",
    "                with open(filepath, 'w') as file:\n",
    "                  file.write(filedata)"
   ]
  }
 ],
 "metadata": {
  "anaconda-cloud": {},
  "kernelspec": {
   "display_name": "Python [default]",
   "language": "python",
   "name": "python3"
  },
  "language_info": {
   "codemirror_mode": {
    "name": "ipython",
    "version": 3
   },
   "file_extension": ".py",
   "mimetype": "text/x-python",
   "name": "python",
   "nbconvert_exporter": "python",
   "pygments_lexer": "ipython3",
   "version": "3.5.4"
  }
 },
 "nbformat": 4,
 "nbformat_minor": 1
}

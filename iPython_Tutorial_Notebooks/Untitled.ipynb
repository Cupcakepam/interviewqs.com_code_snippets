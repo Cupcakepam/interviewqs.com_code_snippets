{
 "cells": [
  {
   "cell_type": "markdown",
   "metadata": {},
   "source": [
    "# Interviewqs.com - code snippets\n",
    "\n",
    "Our aim is to help analysts/developers/data scientists find up to date and easy to use snippets of Python, Pandas, and SQL code covering common use cases.\n",
    "\n",
    "## Contributing new snippets\n",
    "Do you have a helpful snippet or requested use case that is not covered? Please open an issue.\n",
    "\n",
    "\n",
    "## Makers\n",
    "\n",
    "These snippets were built by [Erik Rood](https://github.com/erood) as a part of a larger project, [interviewqs.com](https://www.interviewqs.com)."
   ]
  }
 ],
 "metadata": {
  "kernelspec": {
   "display_name": "Python [conda root]",
   "language": "python",
   "name": "conda-root-py"
  },
  "language_info": {
   "codemirror_mode": {
    "name": "ipython",
    "version": 3
   },
   "file_extension": ".py",
   "mimetype": "text/x-python",
   "name": "python",
   "nbconvert_exporter": "python",
   "pygments_lexer": "ipython3",
   "version": "3.5.4"
  }
 },
 "nbformat": 4,
 "nbformat_minor": 1
}

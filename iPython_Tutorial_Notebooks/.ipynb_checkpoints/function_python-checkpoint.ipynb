{
 "cells": [
  {
   "cell_type": "markdown",
   "metadata": {},
   "source": [
    "#### import modules"
   ]
  },
  {
   "cell_type": "code",
   "execution_count": 1,
   "metadata": {
    "collapsed": true
   },
   "outputs": [],
   "source": [
    "import pandas as pd\n",
    "import numpy as np"
   ]
  },
  {
   "cell_type": "markdown",
   "metadata": {},
   "source": [
    "#### define function"
   ]
  },
  {
   "cell_type": "code",
   "execution_count": 8,
   "metadata": {
    "collapsed": false
   },
   "outputs": [
    {
     "name": "stdout",
     "output_type": "stream",
     "text": [
      "Enter hours worked for the week: 40\n",
      "Enter dollars paid per hour: 55\n",
      "Pre-tax earnings for 40.0 hours at $55.00 per hour are $2200.00.\n",
      "Post-tax earnings for 40.0 hours at $55.00 per hour are $1540.00.\n",
      "You gave uncle sam $660.00 this week!\n"
     ]
    }
   ],
   "source": [
    "#Return the post-tax earnings of an individual,\n",
    "#assuming varying tax brackets depending on annual wage\n",
    "    \n",
    "def calcEarnings(hours, wage):\n",
    "    earnings = hours*wage\n",
    "    if earnings >= 2000:\n",
    "        #30% tax rate for weekly earnings above $2000\n",
    "        earnings = earnings*.70\n",
    "    else:\n",
    "        #15% tax rate for weekly earnings below $2000\n",
    "        earnings = earnings*.85\n",
    "    return earnings\n",
    "\n",
    "#return the raw earnings of an individual (assuming no varying rates for overtime)\n",
    "def calcEarnings_pretax(hours, wage):\n",
    "    earnings = hours*wage\n",
    "    return earnings\n",
    "\n",
    "\n",
    "def main():\n",
    "    hours = float(input('Enter hours worked for the week: '))\n",
    "    wage = float(input('Enter dollars paid per hour: '))\n",
    "    total = calcEarnings(hours, wage)\n",
    "    total_pre_tax = calcEarnings_pretax(hours, wage)\n",
    "    taxes = total_pre_tax - total\n",
    "    print('Pre-tax earnings for {hours} hours at ${wage:.2f} per hour are ${total_pre_tax:.2f}.'\n",
    "          .format(**locals()))\n",
    "    print('Post-tax earnings for {hours} hours at ${wage:.2f} per hour are ${total:.2f}.'\n",
    "          .format(**locals()))\n",
    "    print('You gave uncle sam ${taxes:.2f} this week!'\n",
    "          .format(**locals()))\n",
    "\n",
    "main()"
   ]
  },
  {
   "cell_type": "markdown",
   "metadata": {},
   "source": [
    "You can run the above yourself if you copy/paste it into a notebook or text editor. Will ask you for two inputs (hours, wage) and calculate pre-tax earnings, post-tax earnings, and taxes paid."
   ]
  }
 ],
 "metadata": {
  "anaconda-cloud": {},
  "kernelspec": {
   "display_name": "Python [conda root]",
   "language": "python",
   "name": "conda-root-py"
  },
  "language_info": {
   "codemirror_mode": {
    "name": "ipython",
    "version": 3
   },
   "file_extension": ".py",
   "mimetype": "text/x-python",
   "name": "python",
   "nbconvert_exporter": "python",
   "pygments_lexer": "ipython3",
   "version": "3.5.4"
  }
 },
 "nbformat": 4,
 "nbformat_minor": 0
}

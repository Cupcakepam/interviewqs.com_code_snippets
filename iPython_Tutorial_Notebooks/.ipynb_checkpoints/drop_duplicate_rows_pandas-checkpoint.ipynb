{
 "cells": [
  {
   "cell_type": "markdown",
   "metadata": {},
   "source": [
    "### import modules"
   ]
  },
  {
   "cell_type": "code",
   "execution_count": 1,
   "metadata": {
    "collapsed": true
   },
   "outputs": [],
   "source": [
    "import pandas as pd\n",
    "import numpy as np\n"
   ]
  },
  {
   "cell_type": "markdown",
   "metadata": {},
   "source": [
    "### create dummy dataframe"
   ]
  },
  {
   "cell_type": "code",
   "execution_count": 3,
   "metadata": {
    "collapsed": false
   },
   "outputs": [
    {
     "data": {
      "text/html": [
       "<div>\n",
       "<style scoped>\n",
       "    .dataframe tbody tr th:only-of-type {\n",
       "        vertical-align: middle;\n",
       "    }\n",
       "\n",
       "    .dataframe tbody tr th {\n",
       "        vertical-align: top;\n",
       "    }\n",
       "\n",
       "    .dataframe thead th {\n",
       "        text-align: right;\n",
       "    }\n",
       "</style>\n",
       "<table border=\"1\" class=\"dataframe\">\n",
       "  <thead>\n",
       "    <tr style=\"text-align: right;\">\n",
       "      <th></th>\n",
       "      <th>age</th>\n",
       "      <th>favorite_color</th>\n",
       "      <th>grade</th>\n",
       "      <th>name</th>\n",
       "    </tr>\n",
       "  </thead>\n",
       "  <tbody>\n",
       "    <tr>\n",
       "      <th>Willard Morris</th>\n",
       "      <td>20</td>\n",
       "      <td>blue</td>\n",
       "      <td>88</td>\n",
       "      <td>Willard Morris</td>\n",
       "    </tr>\n",
       "    <tr>\n",
       "      <th>Al Jennings</th>\n",
       "      <td>19</td>\n",
       "      <td>blue</td>\n",
       "      <td>92</td>\n",
       "      <td>Al Jennings</td>\n",
       "    </tr>\n",
       "    <tr>\n",
       "      <th>Omar Mullins</th>\n",
       "      <td>22</td>\n",
       "      <td>yellow</td>\n",
       "      <td>95</td>\n",
       "      <td>Omar Mullins</td>\n",
       "    </tr>\n",
       "    <tr>\n",
       "      <th>Spencer McDaniel</th>\n",
       "      <td>21</td>\n",
       "      <td>green</td>\n",
       "      <td>70</td>\n",
       "      <td>Spencer McDaniel</td>\n",
       "    </tr>\n",
       "  </tbody>\n",
       "</table>\n",
       "</div>"
      ],
      "text/plain": [
       "                  age favorite_color  grade              name\n",
       "Willard Morris     20           blue     88    Willard Morris\n",
       "Al Jennings        19           blue     92       Al Jennings\n",
       "Omar Mullins       22         yellow     95      Omar Mullins\n",
       "Spencer McDaniel   21          green     70  Spencer McDaniel"
      ]
     },
     "execution_count": 3,
     "metadata": {},
     "output_type": "execute_result"
    }
   ],
   "source": [
    "raw_data = {'name': ['Willard Morris', 'Al Jennings', 'Omar Mullins', 'Spencer McDaniel'],\n",
    "        'age': [20, 19, 22, 21],\n",
    "        'favorite_color': ['blue', 'blue', 'yellow', \"green\"],\n",
    "        'grade': [88, 92, 95, 70]}\n",
    "df = pd.DataFrame(raw_data, index = ['Willard Morris', 'Al Jennings', 'Omar Mullins', 'Spencer McDaniel'])\n",
    "df"
   ]
  },
  {
   "cell_type": "markdown",
   "metadata": {},
   "source": [
    "### drop a duplicate row, based on column name"
   ]
  },
  {
   "cell_type": "code",
   "execution_count": 6,
   "metadata": {
    "collapsed": false
   },
   "outputs": [
    {
     "data": {
      "text/html": [
       "<div>\n",
       "<style scoped>\n",
       "    .dataframe tbody tr th:only-of-type {\n",
       "        vertical-align: middle;\n",
       "    }\n",
       "\n",
       "    .dataframe tbody tr th {\n",
       "        vertical-align: top;\n",
       "    }\n",
       "\n",
       "    .dataframe thead th {\n",
       "        text-align: right;\n",
       "    }\n",
       "</style>\n",
       "<table border=\"1\" class=\"dataframe\">\n",
       "  <thead>\n",
       "    <tr style=\"text-align: right;\">\n",
       "      <th></th>\n",
       "      <th>age</th>\n",
       "      <th>favorite_color</th>\n",
       "      <th>grade</th>\n",
       "      <th>name</th>\n",
       "    </tr>\n",
       "  </thead>\n",
       "  <tbody>\n",
       "    <tr>\n",
       "      <th>Willard Morris</th>\n",
       "      <td>20</td>\n",
       "      <td>blue</td>\n",
       "      <td>88</td>\n",
       "      <td>Willard Morris</td>\n",
       "    </tr>\n",
       "    <tr>\n",
       "      <th>Omar Mullins</th>\n",
       "      <td>22</td>\n",
       "      <td>yellow</td>\n",
       "      <td>95</td>\n",
       "      <td>Omar Mullins</td>\n",
       "    </tr>\n",
       "    <tr>\n",
       "      <th>Spencer McDaniel</th>\n",
       "      <td>21</td>\n",
       "      <td>green</td>\n",
       "      <td>70</td>\n",
       "      <td>Spencer McDaniel</td>\n",
       "    </tr>\n",
       "  </tbody>\n",
       "</table>\n",
       "</div>"
      ],
      "text/plain": [
       "                  age favorite_color  grade              name\n",
       "Willard Morris     20           blue     88    Willard Morris\n",
       "Omar Mullins       22         yellow     95      Omar Mullins\n",
       "Spencer McDaniel   21          green     70  Spencer McDaniel"
      ]
     },
     "execution_count": 6,
     "metadata": {},
     "output_type": "execute_result"
    }
   ],
   "source": [
    "#here we should drop Al Jennings' record from the df, \n",
    "#since his favorite color, blue, is a duplicate with Willard Morris\n",
    "df = df.drop_duplicates(subset='favorite_color', keep=\"first\")\n",
    "df"
   ]
  }
 ],
 "metadata": {
  "anaconda-cloud": {},
  "kernelspec": {
   "display_name": "Python [conda root]",
   "language": "python",
   "name": "conda-root-py"
  },
  "language_info": {
   "codemirror_mode": {
    "name": "ipython",
    "version": 3
   },
   "file_extension": ".py",
   "mimetype": "text/x-python",
   "name": "python",
   "nbconvert_exporter": "python",
   "pygments_lexer": "ipython3",
   "version": "3.5.4"
  }
 },
 "nbformat": 4,
 "nbformat_minor": 0
}

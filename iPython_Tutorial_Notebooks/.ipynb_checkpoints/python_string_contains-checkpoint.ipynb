{
 "cells": [
  {
   "cell_type": "markdown",
   "metadata": {},
   "source": [
    "To test whether a given python string contains another string, you can use python's 'in' operator as shown below:"
   ]
  },
  {
   "cell_type": "code",
   "execution_count": 1,
   "metadata": {
    "collapsed": false
   },
   "outputs": [
    {
     "name": "stdout",
     "output_type": "stream",
     "text": [
      "it's in the string\n"
     ]
    }
   ],
   "source": [
    "mystring = \"The white fox jumped over the brown fence.\"\n",
    "\n",
    "if \"fence\" in mystring: \n",
    "    print(\"it's in the string\")"
   ]
  },
  {
   "cell_type": "code",
   "execution_count": 2,
   "metadata": {
    "collapsed": false
   },
   "outputs": [
    {
     "name": "stdout",
     "output_type": "stream",
     "text": [
      "it's not in the string\n"
     ]
    }
   ],
   "source": [
    "mystring = \"The white fox jumped over the brown fence.\"\n",
    "\n",
    "if \"blue\" not in mystring: \n",
    "    print(\"it's not in the string\")"
   ]
  }
 ],
 "metadata": {
  "anaconda-cloud": {},
  "kernelspec": {
   "display_name": "Python [default]",
   "language": "python",
   "name": "python3"
  },
  "language_info": {
   "codemirror_mode": {
    "name": "ipython",
    "version": 3
   },
   "file_extension": ".py",
   "mimetype": "text/x-python",
   "name": "python",
   "nbconvert_exporter": "python",
   "pygments_lexer": "ipython3",
   "version": "3.5.4"
  }
 },
 "nbformat": 4,
 "nbformat_minor": 2
}

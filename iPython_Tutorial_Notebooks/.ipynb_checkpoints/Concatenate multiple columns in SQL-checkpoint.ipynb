{
 "cells": [
  {
   "cell_type": "markdown",
   "metadata": {
    "collapsed": true
   },
   "source": [
    "The following example uses ipython-sql [1]. To install:  \n",
    "pip install ipython-sql  \n",
    "\n",
    "%sql is a Jupyter magic command and can be ignored when not using Jupyter notebooks. \n",
    "\n",
    "[1] https://github.com/catherinedevlin/ipython-sql  "
   ]
  },
  {
   "cell_type": "markdown",
   "metadata": {
    "collapsed": false
   },
   "source": [
    "### Configure SQL for Jupyter notebook"
   ]
  },
  {
   "cell_type": "code",
   "execution_count": 7,
   "metadata": {
    "collapsed": false
   },
   "outputs": [
    {
     "name": "stdout",
     "output_type": "stream",
     "text": [
      "The sql extension is already loaded. To reload it, use:\n",
      "  %reload_ext sql\n"
     ]
    },
    {
     "data": {
      "text/plain": [
       "'Connected: @None'"
      ]
     },
     "execution_count": 7,
     "metadata": {},
     "output_type": "execute_result"
    }
   ],
   "source": [
    "#Load sql\n",
    "%load_ext sql\n",
    "#connect to sqlite\n",
    "%sql sqlite://"
   ]
  },
  {
   "cell_type": "markdown",
   "metadata": {},
   "source": [
    "### Create a table"
   ]
  },
  {
   "cell_type": "code",
   "execution_count": 8,
   "metadata": {
    "collapsed": false
   },
   "outputs": [
    {
     "name": "stdout",
     "output_type": "stream",
     "text": [
      " * sqlite://\n",
      "Done.\n",
      "4 rows affected.\n"
     ]
    },
    {
     "data": {
      "text/plain": [
       "[]"
      ]
     },
     "execution_count": 8,
     "metadata": {},
     "output_type": "execute_result"
    }
   ],
   "source": [
    "%%sql\n",
    "CREATE TABLE players3 (first_name, last_name, age);\n",
    "INSERT INTO players3 (first_name, last_name, age) VALUES \n",
    "    ('Lebron', 'James', 33),\n",
    "    ('Steph', 'Curry', 30),\n",
    "    ('Mike', 'Jordan', 55),\n",
    "    ('Mike', 'Bibby', 40);"
   ]
  },
  {
   "cell_type": "markdown",
   "metadata": {},
   "source": [
    "### Concatenate multiple columns in SQL"
   ]
  },
  {
   "cell_type": "code",
   "execution_count": 16,
   "metadata": {
    "collapsed": false
   },
   "outputs": [
    {
     "name": "stdout",
     "output_type": "stream",
     "text": [
      " * sqlite://\n",
      "Done.\n"
     ]
    },
    {
     "data": {
      "text/html": [
       "<table>\n",
       "    <tr>\n",
       "        <th>first_name</th>\n",
       "        <th>last_name</th>\n",
       "        <th>age</th>\n",
       "        <th>first_last_name</th>\n",
       "    </tr>\n",
       "    <tr>\n",
       "        <td>Lebron</td>\n",
       "        <td>James</td>\n",
       "        <td>33</td>\n",
       "        <td>LebronJames</td>\n",
       "    </tr>\n",
       "    <tr>\n",
       "        <td>Steph</td>\n",
       "        <td>Curry</td>\n",
       "        <td>30</td>\n",
       "        <td>StephCurry</td>\n",
       "    </tr>\n",
       "    <tr>\n",
       "        <td>Mike</td>\n",
       "        <td>Jordan</td>\n",
       "        <td>55</td>\n",
       "        <td>MikeJordan</td>\n",
       "    </tr>\n",
       "    <tr>\n",
       "        <td>Mike</td>\n",
       "        <td>Bibby</td>\n",
       "        <td>40</td>\n",
       "        <td>MikeBibby</td>\n",
       "    </tr>\n",
       "</table>"
      ],
      "text/plain": [
       "[('Lebron', 'James', 33, 'LebronJames'),\n",
       " ('Steph', 'Curry', 30, 'StephCurry'),\n",
       " ('Mike', 'Jordan', 55, 'MikeJordan'),\n",
       " ('Mike', 'Bibby', 40, 'MikeBibby')]"
      ]
     },
     "execution_count": 16,
     "metadata": {},
     "output_type": "execute_result"
    }
   ],
   "source": [
    "%%sql\n",
    "--Here, we will replace the first name with Goat for all Mikes over 45 years of age\n",
    "--This is an example of modifying a field in a SQL table based on multiple conditions\n",
    "SELECT\n",
    "    first_name,\n",
    "    last_name,\n",
    "    age,\n",
    "    --in sqlite, this syntax is first_name || last_name\n",
    "    --for MySQL, Postgress, MS Access, syntax is as shown below\n",
    "    concat(first_name, last_name) AS first_last_name\n",
    "FROM players3"
   ]
  }
 ],
 "metadata": {
  "anaconda-cloud": {},
  "kernelspec": {
   "display_name": "Python [conda root]",
   "language": "python",
   "name": "conda-root-py"
  },
  "language_info": {
   "codemirror_mode": {
    "name": "ipython",
    "version": 3
   },
   "file_extension": ".py",
   "mimetype": "text/x-python",
   "name": "python",
   "nbconvert_exporter": "python",
   "pygments_lexer": "ipython3",
   "version": "3.5.4"
  }
 },
 "nbformat": 4,
 "nbformat_minor": 1
}
